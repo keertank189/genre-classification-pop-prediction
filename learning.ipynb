{
 "cells": [
  {
   "cell_type": "code",
   "execution_count": 2,
   "metadata": {
    "collapsed": true
   },
   "outputs": [],
   "source": [
    "import pandas as pd\n",
    "import numpy as np\n",
    "import matplotlib.pyplot as plt\n",
    "from sklearn.model_selection import train_test_split\n",
    "from sklearn.preprocessing import LabelEncoder, StandardScaler\n",
    "\n",
    "#Keras\n",
    "#import keras\n",
    "\n",
    "import warnings\n",
    "warnings.filterwarnings('ignore')"
   ]
  },
  {
   "cell_type": "code",
   "execution_count": 3,
   "metadata": {
    "collapsed": true
   },
   "outputs": [],
   "source": [
    "tracks = pd.read_csv('new_tracks.csv')\n",
    "echonest = pd.read_csv('new_echonest.csv')\n",
    "features = pd.read_csv('new_features.csv')\n",
    "genres = pd.read_csv('new_genres.csv')"
   ]
  },
  {
   "cell_type": "code",
   "execution_count": 4,
   "metadata": {
    "collapsed": true
   },
   "outputs": [],
   "source": [
    "genre_list = tracks[\"genre_top\"]\n",
    "encoder = LabelEncoder()\n",
    "y = encoder.fit_transform(genre_list)"
   ]
  },
  {
   "cell_type": "code",
   "execution_count": 5,
   "metadata": {
    "collapsed": true
   },
   "outputs": [],
   "source": [
    "features.head()\n",
    "new_features = features.drop([\"track_id\",\"Unnamed: 0\"],axis = 1)"
   ]
  },
  {
   "cell_type": "code",
   "execution_count": 6,
   "metadata": {
    "collapsed": true
   },
   "outputs": [],
   "source": [
    "scaler = StandardScaler()\n",
    "X = scaler.fit_transform(np.array(new_features, dtype = float))"
   ]
  },
  {
   "cell_type": "code",
   "execution_count": 7,
   "metadata": {
    "collapsed": true
   },
   "outputs": [],
   "source": [
    "X_train, X_test, y_train, y_test = train_test_split(X, y, test_size=0.2)"
   ]
  },
  {
   "cell_type": "code",
   "execution_count": 8,
   "metadata": {},
   "outputs": [
    {
     "data": {
      "text/plain": [
       "6400"
      ]
     },
     "execution_count": 8,
     "metadata": {},
     "output_type": "execute_result"
    }
   ],
   "source": [
    "len(y_train)"
   ]
  },
  {
   "cell_type": "code",
   "execution_count": 9,
   "metadata": {},
   "outputs": [],
   "source": [
    "import keras"
   ]
  },
  {
   "cell_type": "code",
   "execution_count": 10,
   "metadata": {},
   "outputs": [
    {
     "name": "stdout",
     "output_type": "stream",
     "text": [
      "WARNING:tensorflow:From /Users/keertankrishnan/anaconda3/lib/python3.6/site-packages/tensorflow/python/framework/op_def_library.py:263: colocate_with (from tensorflow.python.framework.ops) is deprecated and will be removed in a future version.\n",
      "Instructions for updating:\n",
      "Colocations handled automatically by placer.\n"
     ]
    }
   ],
   "source": [
    "import tensorflow as tf\n",
    "from keras import models\n",
    "from keras import layers\n",
    "\n",
    "model = models.Sequential()\n",
    "model.add(layers.Dense(256, activation='relu', input_shape=(X_train.shape[1],)))\n",
    "model.add(layers.Dense(128, activation='relu', input_shape=(X_train.shape[1],)))\n",
    "model.add(layers.Dense(32, activation='relu', input_shape=(X_train.shape[1],)))\n",
    "\n",
    "model.add(layers.Dense(8))\n",
    "model.add(layers.Activation(tf.nn.softmax))"
   ]
  },
  {
   "cell_type": "code",
   "execution_count": 11,
   "metadata": {
    "collapsed": true
   },
   "outputs": [],
   "source": [
    "model.compile(optimizer='adam',\n",
    "              loss='sparse_categorical_crossentropy',\n",
    "              metrics=['accuracy'])"
   ]
  },
  {
   "cell_type": "code",
   "execution_count": 12,
   "metadata": {},
   "outputs": [
    {
     "name": "stdout",
     "output_type": "stream",
     "text": [
      "WARNING:tensorflow:From /Users/keertankrishnan/anaconda3/lib/python3.6/site-packages/tensorflow/python/ops/math_ops.py:3066: to_int32 (from tensorflow.python.ops.math_ops) is deprecated and will be removed in a future version.\n",
      "Instructions for updating:\n",
      "Use tf.cast instead.\n",
      "Epoch 1/20\n",
      "6400/6400 [==============================] - 2s 242us/step - loss: 1.5883 - acc: 0.4223\n",
      "Epoch 2/20\n",
      "6400/6400 [==============================] - 0s 73us/step - loss: 1.1344 - acc: 0.6097\n",
      "Epoch 3/20\n",
      "6400/6400 [==============================] - 1s 82us/step - loss: 0.9292 - acc: 0.6770\n",
      "Epoch 4/20\n",
      "6400/6400 [==============================] - 0s 71us/step - loss: 0.7665 - acc: 0.7381\n",
      "Epoch 5/20\n",
      "6400/6400 [==============================] - 0s 73us/step - loss: 0.6362 - acc: 0.7928\n",
      "Epoch 6/20\n",
      "6400/6400 [==============================] - 0s 73us/step - loss: 0.5241 - acc: 0.8316\n",
      "Epoch 7/20\n",
      "6400/6400 [==============================] - 0s 72us/step - loss: 0.4007 - acc: 0.8848\n",
      "Epoch 8/20\n",
      "6400/6400 [==============================] - 0s 72us/step - loss: 0.2918 - acc: 0.9216\n",
      "Epoch 9/20\n",
      "6400/6400 [==============================] - 0s 73us/step - loss: 0.2096 - acc: 0.9537\n",
      "Epoch 10/20\n",
      "6400/6400 [==============================] - 0s 78us/step - loss: 0.1397 - acc: 0.9739\n",
      "Epoch 11/20\n",
      "6400/6400 [==============================] - 0s 76us/step - loss: 0.0911 - acc: 0.9881\n",
      "Epoch 12/20\n",
      "6400/6400 [==============================] - 0s 74us/step - loss: 0.0547 - acc: 0.9963\n",
      "Epoch 13/20\n",
      "6400/6400 [==============================] - 0s 73us/step - loss: 0.0335 - acc: 0.9986\n",
      "Epoch 14/20\n",
      "6400/6400 [==============================] - 0s 73us/step - loss: 0.0232 - acc: 0.9991\n",
      "Epoch 15/20\n",
      "6400/6400 [==============================] - 0s 74us/step - loss: 0.0168 - acc: 0.9994\n",
      "Epoch 16/20\n",
      "6400/6400 [==============================] - 0s 74us/step - loss: 0.0162 - acc: 0.9992\n",
      "Epoch 17/20\n",
      "6400/6400 [==============================] - 0s 74us/step - loss: 0.0228 - acc: 0.9978\n",
      "Epoch 18/20\n",
      "6400/6400 [==============================] - 0s 73us/step - loss: 0.0224 - acc: 0.9980\n",
      "Epoch 19/20\n",
      "6400/6400 [==============================] - 0s 76us/step - loss: 0.0870 - acc: 0.9780\n",
      "Epoch 20/20\n",
      "6400/6400 [==============================] - 0s 73us/step - loss: 0.2179 - acc: 0.9259\n"
     ]
    }
   ],
   "source": [
    "history = model.fit(X_train,\n",
    "                    y_train,\n",
    "                    epochs=20,\n",
    "                    batch_size=128)"
   ]
  },
  {
   "cell_type": "code",
   "execution_count": 14,
   "metadata": {},
   "outputs": [
    {
     "name": "stdout",
     "output_type": "stream",
     "text": [
      "1600/1600 [==============================] - 0s 61us/step\n"
     ]
    },
    {
     "data": {
      "text/plain": [
       "4"
      ]
     },
     "execution_count": 14,
     "metadata": {},
     "output_type": "execute_result"
    }
   ],
   "source": [
    "test_loss, test_acc = model.evaluate(X_test,y_test)\n",
    "predictions = model.predict(X_test)\n",
    "np.argmax(predictions[1])"
   ]
  },
  {
   "cell_type": "code",
   "execution_count": 15,
   "metadata": {},
   "outputs": [
    {
     "name": "stdout",
     "output_type": "stream",
     "text": [
      "test_acc:  0.530625\n"
     ]
    }
   ],
   "source": [
    "print('test_acc: ',test_acc)"
   ]
  },
  {
   "cell_type": "code",
   "execution_count": null,
   "metadata": {
    "collapsed": true
   },
   "outputs": [],
   "source": []
  },
  {
   "cell_type": "code",
   "execution_count": null,
   "metadata": {
    "collapsed": true
   },
   "outputs": [],
   "source": []
  }
 ],
 "metadata": {
  "kernelspec": {
   "display_name": "Python 2",
   "language": "python",
   "name": "python2"
  },
  "language_info": {
   "codemirror_mode": {
    "name": "ipython",
    "version": 2
   },
   "file_extension": ".py",
   "mimetype": "text/x-python",
   "name": "python",
   "nbconvert_exporter": "python",
   "pygments_lexer": "ipython2",
   "version": "2.7.16"
  }
 },
 "nbformat": 4,
 "nbformat_minor": 2
}
